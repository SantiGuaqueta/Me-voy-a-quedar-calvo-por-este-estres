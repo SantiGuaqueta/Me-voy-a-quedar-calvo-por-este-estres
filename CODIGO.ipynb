{
 "cells": [
  {
   "cell_type": "code",
   "execution_count": 1,
   "metadata": {},
   "outputs": [],
   "source": [
    "file = open ( 'Archivo.text')"
   ]
  },
  {
   "cell_type": "code",
   "execution_count": 2,
   "metadata": {},
   "outputs": [
    {
     "name": "stdout",
     "output_type": "stream",
     "text": [
      "<_io.TextIOWrapper name='Archivo.text' mode='r' encoding='cp1252'>\n"
     ]
    }
   ],
   "source": [
    "print(file)"
   ]
  },
  {
   "cell_type": "code",
   "execution_count": 53,
   "metadata": {},
   "outputs": [
    {
     "name": "stdout",
     "output_type": "stream",
     "text": [
      "La cantidad de consonantes en el texto son: 36063\n"
     ]
    }
   ],
   "source": [
    "file = open ( 'Archivo.text') # Importo el archivo de texto\n",
    "texto= (file.read()) # El archivo de texto lo deposito en una variable\n",
    "texto=texto.lower() # Vuelvo todo el texto en minusculas\n",
    "lista=[\"b\", \"c\", \"d\", \"f\", \"g\", \"h\", \"j\", \"k\", \"l\", \"m\", \"n\", \"ñ\", \"p\", \"q\", \"r\", \"s\", \"t\", \"v\", \"x\", \"z\", \"w\", \"y\"] # Lista de consonantes\n",
    "consontante= 0 # Variable consonante que sera igual a 0 \n",
    "for j in range (0,len(lista)): # For donde se recorre cada letra que hay en la lista\n",
    "    consontante += (texto.count(lista[j])) # La consonante = la cantidad de palabras que hay en el texto y que hay en la lista\n",
    "print(\"La cantidad de consonantes en el texto son: \" +str(consontante)) # Imprimimos \n"
   ]
  },
  {
   "cell_type": "code",
   "execution_count": 34,
   "metadata": {},
   "outputs": [
    {
     "name": "stdout",
     "output_type": "stream",
     "text": [
      "La cantidad de consonantes en el texto son: 22450\n"
     ]
    }
   ],
   "source": [
    "file = open ( 'Archivo.text') # Importo el archivo de texto\n",
    "texto= (file.read()) # El archivo de texto lo deposito en una variable\n",
    "texto=texto.lower() # Vuelvo todo el texto en minusculas\n",
    "lista=[\"a\",\"e\",\"i\",\"o\",\"u\"] # Lista de las vocales\n",
    "vocales= 0 # Variable vocales que sera igual a 0\n",
    "for j in range (0,len(lista)): # Recorro la lista desde el incio hasta el final\n",
    "    vocales += (texto.count(lista[j])) # Las vocales = la cantidad de palabras que hay en el texto y que hay en la lista\n",
    "print(\"La cantidad de consonantes en el texto son: \" +str(vocales)) # Imprimimos\n",
    "\n"
   ]
  },
  {
   "cell_type": "code",
   "execution_count": 47,
   "metadata": {},
   "outputs": [
    {
     "name": "stdout",
     "output_type": "stream",
     "text": [
      "edu: 407\n",
      "jan: 352\n",
      "2008: 324\n",
      "from: 272\n",
      "by: 272\n",
      "received:: 243\n",
      "sakaiproject: 237\n",
      "fri: 223\n",
      "-0500: 219\n",
      "ac: 218\n",
      "4: 204\n",
      "with: 194\n",
      "uk: 193\n",
      "id: 190\n",
      "umich: 189\n",
      "uhi: 189\n",
      "0: 189\n",
      "uits: 189\n",
      "iupui: 189\n",
      "nakamura: 135\n",
      "for: 118\n",
      "3: 115\n",
      "12: 110\n",
      "esmtp: 108\n",
      "paploo: 108\n",
      "2: 82\n",
      "mail: 81\n",
      "mr: 81\n",
      "itd: 81\n",
      "collab: 81\n",
      "+0000: 81\n",
      "(gmt): 81\n",
      "<source@collab: 81\n",
      "org>;: 81\n",
      "text/plain;: 81\n",
      "charset=utf-8: 81\n",
      "thu: 63\n",
      "04: 61\n",
      "java: 60\n",
      "1: 57\n",
      "murder: 54\n",
      "[141: 54\n",
      "211: 54\n",
      "(cyrus: 54\n",
      "v2: 54\n",
      "lmtpa;: 54\n",
      "prod: 54\n",
      "35: 54\n",
      "219: 54\n",
      "(localhost: 54\n"
     ]
    }
   ],
   "source": [
    "file = open ( 'Archivo.text') # Importo el archivo de texto\n",
    "texto= (file.read()) # El archivo de texto lo deposito en una variable\n",
    "texto = texto.lower() # Dejo el archivo todo en minusculas\n",
    "texto = texto.replace('.',' ').replace('?',' ').replace('!',' ').replace(',',' ') # Remplazo los caracteres\n",
    "\n",
    "palabras = texto.split() # Divide el texto en palabras individuales\n",
    "\n",
    "cont = {} # Crea un diccionario que se utilizara mas tarde\n",
    "\n",
    "for x in palabras: # primer for que recorrera las palabras que hay en el texto\n",
    "\n",
    "    # Si x osea la palabra ya se encuentra en el diccionario cont le suma 1 sino lse añade al diccionario\n",
    "    if x in cont:\n",
    "        cont[x] += 1\n",
    "    else:\n",
    "        cont[x] = 1\n",
    "\n",
    "# Obtener las palbras mas comunes, ordenando el diccionario en funcion de los valores y se toman las 50 palabras\n",
    "PLC = sorted(cont.items(), key=lambda j: j[1], reverse = True)[:50]\n",
    "\n",
    "# Crea un bucle con rango PLC en j, p\n",
    "for x, y in PLC:\n",
    "    print(f\"{x}: {y}\")"
   ]
  },
  {
   "cell_type": "code",
   "execution_count": 50,
   "metadata": {},
   "outputs": [
    {
     "name": "stdout",
     "output_type": "stream",
     "text": [
      "Se enviaron 9 mensajes enviados el 5 de enero, 2008\n",
      "Se enviaron 183 mensajes enviados el 4 de enero, 2008\n",
      "Se enviaron 51 mensajes enviados el 3 de enero, 2008\n"
     ]
    }
   ],
   "source": [
    "def contar_mensajes_diarios(texto: str):\n",
    "    mensaje = []  # Lista para almacenar informacion con datos de fecha \n",
    "    palabras = texto.split()  # Separar las palabras del texto \n",
    "\n",
    "    for x in range(len(palabras)):\n",
    "        if palabras[x] == \"Received:\":  \n",
    "            segmento = []\n",
    "            while palabras[x] != \"-0500\" and palabras[i] != \"(GMT)\": # Lista de palabras desde \"Received\" hasta \"(GMT)\" o \"-0500\".\n",
    "                segmento.append(palabras[x])\n",
    "                x += 1\n",
    "            mensaje.append(segmento)\n",
    "\n",
    "    mensaje_dia = {}  # Diccionario que contien el dia y el numero de mensajes enviados \n",
    "\n",
    "    for segmento in mensaje:\n",
    "        indice = segmento.index('Jan')  # Índice de la palabra \"Jan\".\n",
    "        dia = int(segmento[indice - 1])  # Extraer el día basado en el índice de \"Jan\".\n",
    "        if dia in mensaje_dia:\n",
    "            mensaje_dia[dia] += 1\n",
    "        else:\n",
    "            mensaje_dia[dia] = 1\n",
    "\n",
    "    return mensaje_dia\n",
    "\n",
    "\n",
    "with open ( 'Archivo.text') as file:\n",
    "    mensaje_dia = contar_mensajes_diarios(file.read())\n",
    "    for dia in mensaje_dia:\n",
    "            print(f\"Se enviaron {mensaje_dia[dia]} mensajes enviados el {dia} de enero, 2008\")\n",
    "\n"
   ]
  },
  {
   "cell_type": "code",
   "execution_count": 52,
   "metadata": {},
   "outputs": [
    {
     "name": "stdout",
     "output_type": "stream",
     "text": [
      "holes.mr.itd.umich.edu   4\n",
      "icestorm.mr.itd.umich.edu   2\n",
      "ghostbusters.mr.itd.umich.edu   1\n",
      "dreamcatcher.mr.itd.umich.edu   1\n",
      "firestarter.mr.itd.umich.edu   2\n",
      "eyewitness.mr.itd.umich.edu   2\n",
      "tadpole.mr.itd.umich.edu   1\n",
      "it.mr.itd.umich.edu   1\n",
      "creepshow.mr.itd.umich.edu   2\n",
      "carrie.mr.itd.umich.edu   1\n",
      "shining.mr.itd.umich.edu   1\n",
      "guys.mr.itd.umich.edu   2\n",
      "galaxyquest.mr.itd.umich.edu   2\n",
      "workinggirl.mr.itd.umich.edu   1\n",
      "salemslot.mr.itd.umich.edu   3\n",
      "anniehall.mr.itd.umich.edu   1\n"
     ]
    }
   ],
   "source": [
    "\n",
    "def destino(texto:str): # Definimos la funcion\n",
    "    palabra  = texto.split() # Dividimos las palabras \n",
    "    destinatario = {} # Diccionario que contiene la dirreccion de email y los mensajes enviados a esta misma \n",
    "    for i in range(0, len(palabra)): # Primer for que recorrera todas las palabras\n",
    "        if ([i] == \"by\" or palabra[i] == \"BY\") and \".\" in palabra[i-1]: # El string que esta en fente de BY o by contien un destinatario \n",
    "            if palabra[i+1] in destinatario: # Se bloquea el codigo para llenar el diccionario \n",
    "                destinatario[palabra[i+1]] += 1\n",
    "            else:\n",
    "                destinatario[palabra[i+1]] = 1  \n",
    "\n",
    "    listado = list(destinatario.items()) # Lista de tuplas que contiene el destinatario y los mensajes dados a el \n",
    "\n",
    "    return listado\n",
    "\n",
    "with open ( 'Archivo.text') as file:\n",
    "    nombre = destino (file.read())\n",
    "    for i in range(len(nombre)):\n",
    "        lenstr = len(nombre[i])\n",
    "        print(*nombre[i], sep=(3*\" \"),end=\"\\n\") #Imprime el destinatario y el nuemro de mensajes que se le han enviado separado por 3 espacios "
   ]
  }
 ],
 "metadata": {
  "kernelspec": {
   "display_name": "Python 3",
   "language": "python",
   "name": "python3"
  },
  "language_info": {
   "codemirror_mode": {
    "name": "ipython",
    "version": 3
   },
   "file_extension": ".py",
   "mimetype": "text/x-python",
   "name": "python",
   "nbconvert_exporter": "python",
   "pygments_lexer": "ipython3",
   "version": "3.11.1"
  },
  "orig_nbformat": 4
 },
 "nbformat": 4,
 "nbformat_minor": 2
}
